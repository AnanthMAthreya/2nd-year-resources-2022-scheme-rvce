{
 "cells": [
  {
   "cell_type": "code",
   "execution_count": 12,
   "metadata": {},
   "outputs": [],
   "source": [
    "import numpy as np\n",
    "import pandas as pd\n",
    "from sklearn.model_selection import train_test_split\n",
    "from sklearn.metrics import accuracy_score,precision_score,f1_score,recall_score"
   ]
  },
  {
   "cell_type": "code",
   "execution_count": 13,
   "metadata": {},
   "outputs": [],
   "source": [
    "class NaiveBayes():\n",
    "    def __init__(self):\n",
    "        self.class_prob={}\n",
    "        self.features_prob={}\n",
    "\n",
    "        \n",
    "    def fit(self,x,Y):\n",
    "\n",
    "        #calculate frequency of each\n",
    "        for value in Y:\n",
    "            if value in self.class_prob.keys():\n",
    "                self.class_prob[value] += 1\n",
    "            else:\n",
    "                self.class_prob[value] = 1\n",
    "\n",
    "        \n",
    "        counts = list(self.class_prob.values())    ##counts\n",
    "        total_samples = len(Y)\n",
    "\n",
    "        #calculate probability\n",
    "        for key in self.class_prob:\n",
    "            self.class_prob[key]=self.class_prob[key]/total_samples\n",
    "\n",
    "        \n",
    "        \n",
    "        #probabioty of feature given class\n",
    "        for c in self.class_prob.keys():\n",
    "            self.features_prob[c] = {} #dict inside dict for features\n",
    "            for feature in x.columns:\n",
    "                self.features_prob[c][feature] = {} #one more dict inside to store\n",
    "                unique_values = x[feature].unique() #unique values of that feature\n",
    "                for value in unique_values:\n",
    "                    count = np.sum((x[feature] == value) & (Y == c))\n",
    "                    self.features_prob[c][feature][value] = count / counts[c]\n",
    "            # for feature in x.columns:\n",
    "            #     self.features_prob[c][feature] = {}  # one more dict inside to store\n",
    "            #     unique_values = []  # to store unique values of that feature\n",
    "            #     for value in x[feature]:\n",
    "            #         if value not in unique_values:\n",
    "            #             unique_values.append(value)\n",
    "            #     for value in unique_values:\n",
    "            #         count = 0\n",
    "            #         for i in range(len(x[feature])):\n",
    "            #             if x[feature][i] == value and Y[i] == c:\n",
    "            #                 count += 1\n",
    "            #         self.features_prob[c][feature][value] = count / counts[c]\n",
    "    \n",
    "\n",
    "    def predict(self, x):\n",
    "        predictions = []\n",
    "        for i in range(len(x)):\n",
    "            row = x.iloc[i]\n",
    "            max_prob = -1\n",
    "            predicted_class = None\n",
    "            for c in self.class_prob:\n",
    "                prob = self.class_prob[c]\n",
    "                for feature in x.columns:\n",
    "                    value = row[feature]\n",
    "                    if value in self.features_prob[c][feature]:\n",
    "                        prob *= self.features_prob[c][feature][value]\n",
    "                    else:\n",
    "                        prob *= 0\n",
    "                if prob > max_prob:\n",
    "                    max_prob = prob\n",
    "                    predicted_class = c\n",
    "            predictions.append(predicted_class)\n",
    "        return predictions\n"
   ]
  },
  {
   "cell_type": "code",
   "execution_count": 14,
   "metadata": {},
   "outputs": [
    {
     "data": {
      "text/html": [
       "<div>\n",
       "<style scoped>\n",
       "    .dataframe tbody tr th:only-of-type {\n",
       "        vertical-align: middle;\n",
       "    }\n",
       "\n",
       "    .dataframe tbody tr th {\n",
       "        vertical-align: top;\n",
       "    }\n",
       "\n",
       "    .dataframe thead th {\n",
       "        text-align: right;\n",
       "    }\n",
       "</style>\n",
       "<table border=\"1\" class=\"dataframe\">\n",
       "  <thead>\n",
       "    <tr style=\"text-align: right;\">\n",
       "      <th></th>\n",
       "      <th>User ID</th>\n",
       "      <th>Gender</th>\n",
       "      <th>Age</th>\n",
       "      <th>EstimatedSalary</th>\n",
       "      <th>Purchased</th>\n",
       "    </tr>\n",
       "  </thead>\n",
       "  <tbody>\n",
       "    <tr>\n",
       "      <th>0</th>\n",
       "      <td>15624510</td>\n",
       "      <td>1</td>\n",
       "      <td>19</td>\n",
       "      <td>19000</td>\n",
       "      <td>0</td>\n",
       "    </tr>\n",
       "    <tr>\n",
       "      <th>1</th>\n",
       "      <td>15810944</td>\n",
       "      <td>1</td>\n",
       "      <td>35</td>\n",
       "      <td>20000</td>\n",
       "      <td>0</td>\n",
       "    </tr>\n",
       "    <tr>\n",
       "      <th>2</th>\n",
       "      <td>15668575</td>\n",
       "      <td>0</td>\n",
       "      <td>26</td>\n",
       "      <td>43000</td>\n",
       "      <td>0</td>\n",
       "    </tr>\n",
       "    <tr>\n",
       "      <th>3</th>\n",
       "      <td>15603246</td>\n",
       "      <td>0</td>\n",
       "      <td>27</td>\n",
       "      <td>57000</td>\n",
       "      <td>0</td>\n",
       "    </tr>\n",
       "    <tr>\n",
       "      <th>4</th>\n",
       "      <td>15804002</td>\n",
       "      <td>1</td>\n",
       "      <td>19</td>\n",
       "      <td>76000</td>\n",
       "      <td>0</td>\n",
       "    </tr>\n",
       "    <tr>\n",
       "      <th>...</th>\n",
       "      <td>...</td>\n",
       "      <td>...</td>\n",
       "      <td>...</td>\n",
       "      <td>...</td>\n",
       "      <td>...</td>\n",
       "    </tr>\n",
       "    <tr>\n",
       "      <th>395</th>\n",
       "      <td>15691863</td>\n",
       "      <td>0</td>\n",
       "      <td>46</td>\n",
       "      <td>41000</td>\n",
       "      <td>1</td>\n",
       "    </tr>\n",
       "    <tr>\n",
       "      <th>396</th>\n",
       "      <td>15706071</td>\n",
       "      <td>1</td>\n",
       "      <td>51</td>\n",
       "      <td>23000</td>\n",
       "      <td>1</td>\n",
       "    </tr>\n",
       "    <tr>\n",
       "      <th>397</th>\n",
       "      <td>15654296</td>\n",
       "      <td>0</td>\n",
       "      <td>50</td>\n",
       "      <td>20000</td>\n",
       "      <td>1</td>\n",
       "    </tr>\n",
       "    <tr>\n",
       "      <th>398</th>\n",
       "      <td>15755018</td>\n",
       "      <td>1</td>\n",
       "      <td>36</td>\n",
       "      <td>33000</td>\n",
       "      <td>0</td>\n",
       "    </tr>\n",
       "    <tr>\n",
       "      <th>399</th>\n",
       "      <td>15594041</td>\n",
       "      <td>0</td>\n",
       "      <td>49</td>\n",
       "      <td>36000</td>\n",
       "      <td>1</td>\n",
       "    </tr>\n",
       "  </tbody>\n",
       "</table>\n",
       "<p>400 rows × 5 columns</p>\n",
       "</div>"
      ],
      "text/plain": [
       "      User ID  Gender  Age  EstimatedSalary  Purchased\n",
       "0    15624510       1   19            19000          0\n",
       "1    15810944       1   35            20000          0\n",
       "2    15668575       0   26            43000          0\n",
       "3    15603246       0   27            57000          0\n",
       "4    15804002       1   19            76000          0\n",
       "..        ...     ...  ...              ...        ...\n",
       "395  15691863       0   46            41000          1\n",
       "396  15706071       1   51            23000          1\n",
       "397  15654296       0   50            20000          1\n",
       "398  15755018       1   36            33000          0\n",
       "399  15594041       0   49            36000          1\n",
       "\n",
       "[400 rows x 5 columns]"
      ]
     },
     "execution_count": 14,
     "metadata": {},
     "output_type": "execute_result"
    }
   ],
   "source": [
    "data = pd.read_csv(\"Social_Network_Ads.csv\")\n",
    "data[\"Gender\"] = np.where(data[\"Gender\"] == 'Male', 1, 0)\n",
    "X = data.iloc[:,1:4]\n",
    "y = data['Purchased']\n",
    "X_train,X_test,Y_train,Y_test=train_test_split(X,y,test_size=0.2,random_state=0)\n",
    "data"
   ]
  },
  {
   "cell_type": "code",
   "execution_count": 15,
   "metadata": {},
   "outputs": [],
   "source": [
    "model=NaiveBayes()\n",
    "model.fit(X_train,Y_train)\n",
    "Y_pred=model.predict(X_test)\n"
   ]
  },
  {
   "cell_type": "code",
   "execution_count": 16,
   "metadata": {},
   "outputs": [
    {
     "data": {
      "text/plain": [
       "(80, 80)"
      ]
     },
     "execution_count": 16,
     "metadata": {},
     "output_type": "execute_result"
    }
   ],
   "source": [
    "len(Y_pred) , len(Y_test)"
   ]
  },
  {
   "cell_type": "code",
   "execution_count": 17,
   "metadata": {},
   "outputs": [
    {
     "name": "stdout",
     "output_type": "stream",
     "text": [
      "Validation Set Metrics:\n",
      "Accuracy: 0.75\n",
      "Precision: 0.55\n",
      "Recall: 0.55\n",
      "F1 Score: 0.55\n",
      "[[48 10]\n",
      " [10 12]]\n"
     ]
    }
   ],
   "source": [
    "from sklearn.metrics import accuracy_score, precision_score, recall_score, f1_score, confusion_matrix\n",
    "\n",
    "accuracy = accuracy_score(Y_pred, Y_test)\n",
    "precision = precision_score(Y_pred, Y_test)\n",
    "recall = recall_score(Y_pred, Y_test)\n",
    "f1 = f1_score(Y_pred, Y_test)\n",
    "\n",
    "print(\"Validation Set Metrics:\")\n",
    "print(\"Accuracy: {:.2f}\".format(accuracy))\n",
    "print(\"Precision: {:.2f}\".format(precision))\n",
    "print(\"Recall: {:.2f}\".format(recall))\n",
    "print(\"F1 Score: {:.2f}\".format(f1))\n",
    "confusion = confusion_matrix(Y_pred, Y_test)\n",
    "print(confusion)\n"
   ]
  },
  {
   "cell_type": "code",
   "execution_count": null,
   "metadata": {},
   "outputs": [],
   "source": []
  },
  {
   "cell_type": "code",
   "execution_count": 18,
   "metadata": {},
   "outputs": [],
   "source": [
    "valid = data.sample(n=20)\n",
    "X_valid = valid.iloc[:,1:4]\n",
    "y_valid = valid['Purchased']\n",
    "# X_valid"
   ]
  },
  {
   "cell_type": "code",
   "execution_count": 19,
   "metadata": {},
   "outputs": [
    {
     "data": {
      "text/plain": [
       "([0, 0, 0, 0, 0, 0, 0, 0, 0, 0, 1, 1, 0, 1, 1, 0, 1, 0, 0, 0],\n",
       " 311    1\n",
       " 115    0\n",
       " 147    0\n",
       " 166    0\n",
       " 24     1\n",
       " 114    0\n",
       " 72     0\n",
       " 93     0\n",
       " 155    0\n",
       " 358    1\n",
       " 261    1\n",
       " 329    1\n",
       " 23     1\n",
       " 323    1\n",
       " 275    1\n",
       " 374    0\n",
       " 206    1\n",
       " 350    1\n",
       " 173    0\n",
       " 203    0\n",
       " Name: Purchased, dtype: int64)"
      ]
     },
     "execution_count": 19,
     "metadata": {},
     "output_type": "execute_result"
    }
   ],
   "source": [
    "y_val = model.predict(X_valid)\n",
    "y_val\n",
    "\n",
    "y_valid = y_valid\n",
    "y_val, y_valid\n"
   ]
  },
  {
   "cell_type": "code",
   "execution_count": 20,
   "metadata": {},
   "outputs": [
    {
     "name": "stdout",
     "output_type": "stream",
     "text": [
      "Validation Set Metrics:\n",
      "Accuracy: 0.75\n",
      "Precision: 0.50\n",
      "Recall: 1.00\n",
      "F1 Score: 0.67\n"
     ]
    }
   ],
   "source": [
    "from sklearn.metrics import accuracy_score, precision_score, recall_score, f1_score, confusion_matrix\n",
    "\n",
    "accuracy = accuracy_score(y_val, y_valid)\n",
    "precision = precision_score(y_val, y_valid)\n",
    "recall = recall_score(y_val, y_valid)\n",
    "f1 = f1_score(y_val, y_valid)\n",
    "\n",
    "print(\"Validation Set Metrics:\")\n",
    "print(\"Accuracy: {:.2f}\".format(accuracy))\n",
    "print(\"Precision: {:.2f}\".format(precision))\n",
    "print(\"Recall: {:.2f}\".format(recall))\n",
    "print(\"F1 Score: {:.2f}\".format(f1))"
   ]
  },
  {
   "cell_type": "code",
   "execution_count": 21,
   "metadata": {},
   "outputs": [
    {
     "name": "stdout",
     "output_type": "stream",
     "text": [
      "[[10  5]\n",
      " [ 0  5]]\n",
      "Class 0 predicted and true : \n",
      "10\n",
      "Class 0 predicted and false : \n",
      "5\n",
      "Class 1 predicted and false : \n",
      "0\n",
      "Class 1 predicted and true : \n",
      "5\n"
     ]
    }
   ],
   "source": [
    "confusion = confusion_matrix(y_val, y_valid)\n",
    "print(confusion)\n",
    "print(\"Class 0 predicted and true : \")\n",
    "print(confusion[0][0])\n",
    "print(\"Class 0 predicted and false : \")\n",
    "print(confusion[0][1])\n",
    "print(\"Class 1 predicted and false : \")\n",
    "print(confusion[1][0])\n",
    "print(\"Class 1 predicted and true : \")\n",
    "print(confusion[1][1])"
   ]
  },
  {
   "cell_type": "code",
   "execution_count": 22,
   "metadata": {},
   "outputs": [
    {
     "data": {
      "text/plain": [
       "[1]"
      ]
     },
     "execution_count": 22,
     "metadata": {},
     "output_type": "execute_result"
    }
   ],
   "source": [
    "a = pd.DataFrame()\n",
    "a[\"Gender\"] = [\"Male\"]\n",
    "a[\"Age\"] = [1]\n",
    "a[\"EstimatedSalary\"] = [00]\n",
    "model.predict(a)"
   ]
  },
  {
   "cell_type": "code",
   "execution_count": null,
   "metadata": {},
   "outputs": [],
   "source": []
  }
 ],
 "metadata": {
  "kernelspec": {
   "display_name": "Python 3.9.6 64-bit",
   "language": "python",
   "name": "python3"
  },
  "language_info": {
   "codemirror_mode": {
    "name": "ipython",
    "version": 3
   },
   "file_extension": ".py",
   "mimetype": "text/x-python",
   "name": "python",
   "nbconvert_exporter": "python",
   "pygments_lexer": "ipython3",
   "version": "3.9.6"
  },
  "vscode": {
   "interpreter": {
    "hash": "31f2aee4e71d21fbe5cf8b01ff0e069b9275f58929596ceb00d14d90e3e16cd6"
   }
  }
 },
 "nbformat": 4,
 "nbformat_minor": 2
}
